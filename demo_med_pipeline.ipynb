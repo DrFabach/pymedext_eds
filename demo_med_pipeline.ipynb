{
 "cells": [
  {
   "cell_type": "code",
   "execution_count": 1,
   "metadata": {},
   "outputs": [],
   "source": [
    "from glob import glob\n",
    "import pandas as pd\n",
    "import re\n",
    "from pprint import pprint\n",
    "import pkg_resources\n",
    "\n",
    "from pymedextcore.document import Document\n",
    "from pymedext_eds.annotators import Endlines, SentenceTokenizer, SectionSplitter\n",
    "from pymedext_eds.utils import rawtext_loader\n",
    "from pymedext_eds.med import MedicationAnnotator, MedicationNormalizer"
   ]
  },
  {
   "cell_type": "code",
   "execution_count": 2,
   "metadata": {},
   "outputs": [],
   "source": [
    "models_param = [{'tagger_path':'/export/home/cse180025/prod_information_extraction/data/models/apmed4/entities/final-model.pt' ,\n",
    "                'tag_name': 'entity_pred' },\n",
    "                {'tagger_path':'/export/home/cse180025/prod_information_extraction/data/models/apmed4/events/final-model.pt' ,\n",
    "                'tag_name': 'event_pred' },\n",
    "               {'tagger_path': \"/export/home/cse180025/prod_information_extraction/data/models/apmed4/drugblob/final-model.pt\",\n",
    "                'tag_name': 'drugblob_pred'}]\n",
    "\n",
    "data_path = pkg_resources.resource_filename('pymedext_eds', 'data/romedi')\n",
    "romedi_path = glob(data_path + '/*.p')[0]"
   ]
  },
  {
   "cell_type": "code",
   "execution_count": 3,
   "metadata": {},
   "outputs": [],
   "source": [
    "models_param = [{'tagger_path': 'fr-ner',\n",
    "                'tag_name': 'entity_pred' }]\n",
    "\n",
    "data_path = pkg_resources.resource_filename('pymedext_eds', 'data/romedi')\n",
    "romedi_path = glob(data_path + '/*.p')[0]"
   ]
  },
  {
   "cell_type": "code",
   "execution_count": 4,
   "metadata": {},
   "outputs": [
    {
     "name": "stdout",
     "output_type": "stream",
     "text": [
      "2020-12-23 16:52:04,827 loading file /home/basile/.flair/models/fr-ner-wikiner-0.4.pt\n"
     ]
    }
   ],
   "source": [
    "endlines = Endlines([\"raw_text\"], \"clean_text\", ID=\"endlines\")\n",
    "sections = SectionSplitter(['clean_text'], \"section\", ID= 'sections')\n",
    "sentenceSplitter = SentenceTokenizer([\"section\"],\"sentence\", ID=\"sentences\")\n",
    "med = MedicationAnnotator(['sentence'], 'med', ID='med:v2', models_param=models_param,  device='cpu')\n",
    "norm = MedicationNormalizer(['ENT/DRUG','ENT/CLASS'], 'normalized_mention', ID='norm',romedi_path= romedi_path)\n",
    "\n",
    "pipeline = [endlines,sections, sentenceSplitter, med, norm]"
   ]
  },
  {
   "cell_type": "code",
   "execution_count": 5,
   "metadata": {},
   "outputs": [],
   "source": [
    "data_path = pkg_resources.resource_filename('pymedext_eds', 'data/demo')\n",
    "file_list = glob(data_path + '/*.txt')\n",
    "\n",
    "docs = [rawtext_loader(x) for x in file_list]"
   ]
  },
  {
   "cell_type": "code",
   "execution_count": 6,
   "metadata": {},
   "outputs": [
    {
     "name": "stderr",
     "output_type": "stream",
     "text": [
      "Ignore 2 sentence(s) with no tokens.\n"
     ]
    }
   ],
   "source": [
    "for doc in docs:\n",
    "    doc.annotate(pipeline)"
   ]
  },
  {
   "cell_type": "code",
   "execution_count": 7,
   "metadata": {},
   "outputs": [
    {
     "data": {
      "text/plain": [
       "[]"
      ]
     },
     "execution_count": 7,
     "metadata": {},
     "output_type": "execute_result"
    }
   ],
   "source": [
    "med.annotate_function(doc)"
   ]
  },
  {
   "cell_type": "code",
   "execution_count": 8,
   "metadata": {},
   "outputs": [],
   "source": [
    "model = med.model_zoo[0][1]"
   ]
  },
  {
   "cell_type": "code",
   "execution_count": 9,
   "metadata": {},
   "outputs": [],
   "source": [
    "from flair.data import Sentence"
   ]
  },
  {
   "cell_type": "code",
   "execution_count": 10,
   "metadata": {},
   "outputs": [
    {
     "data": {
      "text/plain": [
       "<bound method SequenceTagger.predict of SequenceTagger(\n",
       "  (embeddings): StackedEmbeddings(\n",
       "    (list_embedding_0): WordEmbeddings('fr')\n",
       "    (list_embedding_1): FlairEmbeddings(\n",
       "      (lm): LanguageModel(\n",
       "        (drop): Dropout(p=0.5, inplace=False)\n",
       "        (encoder): Embedding(275, 100)\n",
       "        (rnn): LSTM(100, 1024)\n",
       "        (decoder): Linear(in_features=1024, out_features=275, bias=True)\n",
       "      )\n",
       "    )\n",
       "    (list_embedding_2): FlairEmbeddings(\n",
       "      (lm): LanguageModel(\n",
       "        (drop): Dropout(p=0.5, inplace=False)\n",
       "        (encoder): Embedding(275, 100)\n",
       "        (rnn): LSTM(100, 1024)\n",
       "        (decoder): Linear(in_features=1024, out_features=275, bias=True)\n",
       "      )\n",
       "    )\n",
       "  )\n",
       "  (word_dropout): WordDropout(p=0.05)\n",
       "  (locked_dropout): LockedDropout(p=0.5)\n",
       "  (embedding2nn): Linear(in_features=2348, out_features=2348, bias=True)\n",
       "  (rnn): LSTM(2348, 256, batch_first=True, bidirectional=True)\n",
       "  (linear): Linear(in_features=512, out_features=20, bias=True)\n",
       ")>"
      ]
     },
     "execution_count": 10,
     "metadata": {},
     "output_type": "execute_result"
    }
   ],
   "source": [
    "model.predict"
   ]
  },
  {
   "cell_type": "code",
   "execution_count": 11,
   "metadata": {},
   "outputs": [],
   "source": [
    "s = Sentence('George Washington est allé à Washington.')"
   ]
  },
  {
   "cell_type": "code",
   "execution_count": 12,
   "metadata": {
    "scrolled": true
   },
   "outputs": [],
   "source": [
    "model.predict(s)"
   ]
  },
  {
   "cell_type": "code",
   "execution_count": 13,
   "metadata": {},
   "outputs": [
    {
     "data": {
      "text/plain": [
       "{'text': 'George Washington est allé à Washington.',\n",
       " 'labels': [],\n",
       " 'entities': []}"
      ]
     },
     "execution_count": 13,
     "metadata": {},
     "output_type": "execute_result"
    }
   ],
   "source": [
    "s.to_dict()"
   ]
  },
  {
   "cell_type": "code",
   "execution_count": 14,
   "metadata": {},
   "outputs": [
    {
     "name": "stdout",
     "output_type": "stream",
     "text": [
      "George <B-PER> Washington <E-PER> est allé à Washington <S-LOC> .\n"
     ]
    }
   ],
   "source": [
    "print(s.to_tagged_string())"
   ]
  },
  {
   "cell_type": "code",
   "execution_count": 15,
   "metadata": {},
   "outputs": [
    {
     "data": {
      "text/plain": [
       "{'type': 'clean_text',\n",
       " 'value': 'Antécédents médicaux 1,62 m pour 65,7 kg = IMC à 25,03.. En 1974 ,19 ans , , embolie pulmonaire compliquant une phlébite lors d\\'un alitement à la suite d’un accident de la voie publique. Des bilans d\\'hémostase effectués en 1995 et 2004 avaient éliminé une anomalie congénitale de la coagulation.. Insuffisance veineuse saphène interne bilatérale connue depuis 6 ans pour laquelle avait été proposée une intervention.. Mode de vie. Autonome et indépendante dans tous les gestes de la vie courante.. Loisirs : course à pied, semi-marathon, randonnées dans le cadre d\\'un club ainsi que pratique du vélo.. Le chirurgien conclue :. \"Gonalgies droites évoluant depuis novembre 2012. Très sportive, a dû arrêter à cause de ses douleurs. Pas de blocage, ni d\\'instabilité. Escaliers difficiles. Réveil nocturne. A eu plusieurs infiltrations d’acide hyaluronique sans aucun effet.. Examen :. Bonnes amplitudes articulaires. Choc rotulien. Ligaments OK. Rotule OK. Douleurs palpation interne. Grinding test positif   ; NB : compression du genou en décubitus ventral en rotation interne qui, lorsqu\\'il est douloureux, signale une atteinte méniscale . Pas de signe de tendinopathie.. Echo et radios :. Sans particularité. IRM de 2012 normale.. Conduite à tenir :. Symptomatologie méniscale. Refaire une IRM\".. Le 5 février 2014, 2e consultation avec le chirurgien orthopédiste :. \"Persistance des symptômes avec impotence fonctionnelle marquée. Réveils nocturnes.... IRM :. Lésion de la CPMI   périphérique, aspect distendu du LCA ,ligament croisé antérieur , , kyste poplité ; corne postérieure du ménisque interne .. Conduite à tenir :. Télémétrie des membres inférieurs à la recherche de troubles d\\'axes. Scintigraphie osseuse.\". Le 19 février 2014, 3e consultation avec le chirurgien orthopédiste :. \"Persistance des symptômes.. Scintigraphie osseuse :. Souffrance sous chondrale du plateau tibial interne.. Conduite à tenir :. Port de semelles valgisantes.. En fonction des douleurs, refaire une infiltration cortisonique.\". Le 7 novembre 2014, 4e consultation avec le chirurgien orthopédiste :. \"Persistance des douleurs, a eu des infiltrations de cortisone il y a une semaine.. IRM :. Lésion instable de la corne postérieure du ménisque interne ouverte sur l\\'articulation.. Conduite à tenir :. Indication d\\'arthroscopie pour méniscectomie interne, information sur la balance bénéfice/risque et les suites opératoires.. Prescription :. Bilan sanguin comprenant numération formule sanguine, plaquettes, bilan de coagulation, ionogramme sanguin.\". Consentement éclairé, signé, daté du 07-11-2014   ; exemplaire destiné à la clinique . L\\'exemplaire destiné au médecin n\\'était pas signé.. Lettre d\\'information sur les risques liés à l\\'intervention dans laquelle est précisée la possibilité d\\'un traitement médicamenteux préventif contre la phlébite ainsi que la possibilité de phlébite en termes de complication.. Information sur la nécessité d\\'une consultation pré anesthésie.. Lors de l’expertise, interrogée sur le contenu de ses entretiens avec le chirurgien orthopédiste, la patiente affirme l’avoir informé de ses antécédents de phlébite et d’embolie pulmonaire.. Pour sa part, le chirurgien orthopédiste reconnaît que, s\\'il avait eu connaissance des antécédents de la patiente, il aurait mis en route un traitement préventif de la phlébite. En outre, il ajoute que s\\'il avait eu cette information, celle-ci aurait été reportée sur ses notes de consultation.. Le 6 janvier 2015, bilan biologique sans aucune anomalie, en particulier, avec des temps de coagulations normaux.. Le 12 janvier 2015, consultation de préanesthésie. L’anesthésiste mentionne :. \"... Embolie pulmonaire à l\\'âge de 19 ans suite à un accident de la voie publique..., Notion d’HTA. Risque ASA côté à 2\".. Dans le questionnaire médical rempli par la patiente sont indiqués des antécédents familiaux d\\'embolie pulmonaire et de phlébite, ainsi que des antécédents personnels de varice.. Le 19 janvier 2015, hospitalisation en clinique ,chirurgie ambulatoire , .. Arthroscopie du genou droit : Méniscectomie latérale.. Compte rendu opératoire : \"... Au niveau du compartiment fémoro-tibial interne, ménisque : lésion complexe instable de la corne moyenne et postérieure régularisation au shaver et à la pince baske. cartilage : lésion stade III …\".. L’anesthésiste ayant endormi la patiente n’était pas celui qui avait réalisé la consultation de préanesthésie.. Aux ordonnances destinées aux soins postopératoires, était jointe une note d\\'information dans laquelle il était indiqué de contacter le chirurgien dans les cas suivants : \"... Douleurs inhabituelles dans le mollet pouvant faire évoquer la survenue d\\'une phlébite   …\" ; caillots veineux dans la veine du mollet .. Lors de l’expertise, la patiente soulignait : \",… ,  s\\'être étonnée et avoir réclamé au cours de son hospitalisation la mise en place d\\'un traitement anticoagulant préventif. . Le chirurgien lui aurait simplement indiqué qu\\'elle pouvait marcher sans attelle et qu\\'elle ne nécessitait pas d\\'anticoagulant ,… , \".. Après sa sortie de la clinique, la patiente indiquait avoir marché avec une canne pendant 2 jours. Elle précisait avoir appelé le chirurgien dès la survenue de la douleur musculaire par un courriel du 21/01/15 à 11 h 38 ,J2 ,  : \"Je ressens une douleur au mollet de la jambe opérée sans toutefois avoir la jambe chaude ou rouge, ni de température. Ayant eu une embolie pulmonaire il y a plus de 20 ans pourriez-vous me rassurer et échanger avec moi sur la conduite à tenir ?\" . A 12 h, le chirurgien rappelait la patiente et organisait un rendez-vous auprès d’un angiologue pour un echodoppler    ;  N B. : absence de notion de la prescription d’une HBPM à dose curative dès cet appel .. Le 22 janvier 2015, consultation angiologue,. Echodoppler :. \"Thrombose veineuse profonde distale suro-jambière droite récente évolutive. INNOHEP 0,6 fait, antivitamine K  à débuter ce soir, contrôle dans 10 jours.\". Ordonnance :. INNOHEP 0,6 ml x 1/j pendant 15 jours.. PREVISCAN 3/4 de comprimé par jour le soir, posologie adaptée au dosage de l\\'INR qui doit être compris entre 2 et 3. 2 paires de bas jarret de compression classe 2. Marche.Le 24 février 2015 :. Echodoppler : . \"Thrombose veineuse profonde distale suro-jambière droite récente évolutive sans extension poplité, très nettement reperméabilisée : disparition du thrombus soléaire, seul persiste le caillot péronier ,9,5 mm , ...\". . Le 27 février 2015, consultation du chirurgien :. \"amélioration des douleurs. A débuté la kiné avec retard. Pas de réveil nocturne. Pas d\\'inflammation. Cicatrices OK. Sensibilité palpation interligne. Léger accrochage rotulien. Au total, bon résultat malgré les retards liés à la thrombose. Kiné ++. bilan dans 2 mois.\". Ordonnance de 10 séances de kinésithérapie du genou droit, trois fois par semaine au cabinet.. Appui autorisé.. Le 12 mars 2015 :. Echodoppler : . \"Thrombose veineuse profonde péronière droite toujours obstructive au tiers moyen nécessitant la poursuite de l\\'anticoagulation à dose curative associée à une compression élastique adaptée. Bilan d\\'hémostase à prévoir à la recherche d’une probable anomalie constitutionnelle\".. Le 24 mars 2015 :. Echodoppler : . \"Thrombose veineuse profonde péronière droite stable au tiers moyen.\". Le 20 avril 2015, service d’hématologie biologique du CHU :. \"Bilan pratiqué le 20 mars 2015 en raison d\\'une embolie pulmonaire lors d\\'une immobilisation en 1973 et d’une phlébite surale post-arthroscopie du genou droit en janvier 2015.. Les prélèvements réalisés dans notre laboratoire en1995 et 2004, ainsi que le dernier du 20 mars 2015 sous PREVISCAN ,INR à 1,99 ,  ont permis d\\'éliminer toute anomalie de l\\'hémostase pour expliquer les épisodes thrombotiques présentés.\". Le 19 mai 2015 :. Echodoppler :. \"Évolution favorable de la thrombose veineuse profonde jambière droite avec persistance d\\'un petit syndrome obstructif. Anticoagulation à dose curative à poursuivre cet été et contrôle echodoppler à l\\'automne. Poursuite de la compression élastique\".. Le 29 septembre 2015 :. Echodoppler : . \"Évolution favorable de la thrombose veineuse profonde jambière droite avec recanalisation satisfaisante\".. Début octobre 2015, arrêt du traitement par AVK .. Lors de l’expertise, la patiente indiquait : . \"avoir bénéficié, depuis mi-juin 2015, d\\'un suivi psychiatrique, initialement 2 fois par semaine puis 1 fois par semaine, en raison d\\'un état dépressif consécutif à la phlébite postopératoire. Celle-ci avait entraîné des réminiscences de sa précédente hospitalisation au décours de laquelle était survenue une phlébite avec embolie pulmonaire ,en 1974 , . Elle avait été traitée par du PROZAC® en association avec de l\\'ATARAX® qu\\'elle prenait déjà…. Actuellement ,juin 2016 , , elle était autonome et indépendante dans tous les gestes de la vie courante. Elle travaillait en mi-temps thérapeutique et désirait reprendre à temps complet.. Elle avait été améliorée par l\\'intervention pratiquée par le chirurgien mais présentait des petites douleurs résiduelles sur la face interne du genou droit.\"',\n",
       " 'ngram': None,\n",
       " 'span': (0, 9094),\n",
       " 'source': 'endlines',\n",
       " 'source_ID': 'd9cdb262-4536-11eb-864c-3b15d0b9c6c7',\n",
       " 'isEntity': False,\n",
       " 'attributes': None,\n",
       " 'ID': 'dc77e882-4536-11eb-864c-3b15d0b9c6c7'}"
      ]
     },
     "execution_count": 15,
     "metadata": {},
     "output_type": "execute_result"
    }
   ],
   "source": [
    "doc.get_annotations('clean_text')[0].to_dict()"
   ]
  },
  {
   "cell_type": "code",
   "execution_count": 23,
   "metadata": {},
   "outputs": [],
   "source": [
    "i = 10"
   ]
  },
  {
   "cell_type": "code",
   "execution_count": 70,
   "metadata": {
    "scrolled": true
   },
   "outputs": [
    {
     "data": {
      "text/plain": [
       "{'type': 'sentence',\n",
       " 'value': ' Le courrier de sortie de réanimation conclue à : \"Etat de choc mixte, d\\'une part choc anaphylactique à la Pyostacine® et d\\'autre part choc septique en rapport avec des abcès pulmonaires dont la porte d\\'entrée est probablement cutanée',\n",
       " 'ngram': None,\n",
       " 'span': (5026, 5260),\n",
       " 'source': 'sentences',\n",
       " 'source_ID': 'd9cdb265-4536-11eb-864c-3b15d0b9c6c7',\n",
       " 'isEntity': False,\n",
       " 'attributes': {'section': 'head'},\n",
       " 'ID': 'd9cdb29f-4536-11eb-864c-3b15d0b9c6c7'}"
      ]
     },
     "execution_count": 70,
     "metadata": {},
     "output_type": "execute_result"
    }
   ],
   "source": [
    "i += 1\n",
    "docs[0].get_annotations('sentence')[i].to_dict()"
   ]
  },
  {
   "cell_type": "code",
   "execution_count": null,
   "metadata": {},
   "outputs": [],
   "source": []
  },
  {
   "cell_type": "code",
   "execution_count": 7,
   "metadata": {},
   "outputs": [
    {
     "data": {
      "text/html": [
       "<div>\n",
       "<style scoped>\n",
       "    .dataframe tbody tr th:only-of-type {\n",
       "        vertical-align: middle;\n",
       "    }\n",
       "\n",
       "    .dataframe tbody tr th {\n",
       "        vertical-align: top;\n",
       "    }\n",
       "\n",
       "    .dataframe thead th {\n",
       "        text-align: right;\n",
       "    }\n",
       "</style>\n",
       "<table border=\"1\" class=\"dataframe\">\n",
       "  <thead>\n",
       "    <tr style=\"text-align: right;\">\n",
       "      <th></th>\n",
       "    </tr>\n",
       "  </thead>\n",
       "  <tbody>\n",
       "  </tbody>\n",
       "</table>\n",
       "</div>"
      ],
      "text/plain": [
       "Empty DataFrame\n",
       "Columns: []\n",
       "Index: []"
      ]
     },
     "execution_count": 7,
     "metadata": {},
     "output_type": "execute_result"
    }
   ],
   "source": [
    "pd.DataFrame.from_records(MedicationAnnotator.doc_to_omop(docs[1]))"
   ]
  },
  {
   "cell_type": "code",
   "execution_count": null,
   "metadata": {},
   "outputs": [],
   "source": []
  }
 ],
 "metadata": {
  "kernelspec": {
   "display_name": "Python 3",
   "language": "python",
   "name": "python3"
  },
  "language_info": {
   "codemirror_mode": {
    "name": "ipython",
    "version": 3
   },
   "file_extension": ".py",
   "mimetype": "text/x-python",
   "name": "python",
   "nbconvert_exporter": "python",
   "pygments_lexer": "ipython3",
   "version": "3.8.5"
  }
 },
 "nbformat": 4,
 "nbformat_minor": 4
}
