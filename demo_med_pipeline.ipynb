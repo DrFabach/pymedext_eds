{
 "cells": [
  {
   "cell_type": "code",
   "execution_count": 1,
   "metadata": {},
   "outputs": [],
   "source": [
    "from glob import glob\n",
    "import pandas as pd\n",
    "import re\n",
    "from pprint import pprint\n",
    "import pkg_resources\n",
    "\n",
    "from pymedextcore.document import Document\n",
    "from pymedext_eds.annotators import Endlines, SentenceTokenizer, SectionSplitter\n",
    "from pymedext_eds.utils import rawtext_loader\n",
    "from pymedext_eds.med import MedicationAnnotator, MedicationNormalizer"
   ]
  },
  {
   "cell_type": "code",
   "execution_count": 8,
   "metadata": {},
   "outputs": [],
   "source": [
    "models_param = [{'tagger_path':'data/models/apmed5/entities/final-model.pt' ,\n",
    "                'tag_name': 'entity_pred' },\n",
    "                {'tagger_path':'data/models/apmed5/events/final-model.pt' ,\n",
    "                'tag_name': 'event_pred' },\n",
    "               {'tagger_path': \"data/models/apmed5/drugblob/final-model.pt\",\n",
    "                'tag_name': 'drugblob_pred'}]\n",
    "\n",
    "data_path = pkg_resources.resource_filename('pymedext_eds', 'data/romedi')\n",
    "romedi_path = glob(data_path + '/*.p')[0]"
   ]
  },
  {
   "cell_type": "code",
   "execution_count": 9,
   "metadata": {},
   "outputs": [],
   "source": [
    "# models_param = [{'tagger_path': 'fr-ner',\n",
    "#                 'tag_name': 'entity_pred' }]\n",
    "\n",
    "data_path = pkg_resources.resource_filename('pymedext_eds', 'data/romedi')\n",
    "romedi_path = glob(data_path + '/*.p')[0]"
   ]
  },
  {
   "cell_type": "code",
   "execution_count": 10,
   "metadata": {},
   "outputs": [
    {
     "name": "stdout",
     "output_type": "stream",
     "text": [
      "2021-01-29 09:59:23,630 loading file data/models/apmed5/entities/final-model.pt\n",
      "2021-01-29 09:59:25,350 loading file data/models/apmed5/events/final-model.pt\n",
      "2021-01-29 09:59:27,330 loading file data/models/apmed5/drugblob/final-model.pt\n"
     ]
    }
   ],
   "source": [
    "endlines = Endlines([\"raw_text\"], \"clean_text\", ID=\"endlines\")\n",
    "sections = SectionSplitter(['clean_text'], \"section\", ID= 'sections')\n",
    "sentenceSplitter = SentenceTokenizer([\"section\"],\"sentence\", ID=\"sentences\")\n",
    "med = MedicationAnnotator(['sentence'], 'med', ID='med:v2', models_param=models_param,  device='cpu')\n",
    "norm = MedicationNormalizer(['ENT/DRUG','ENT/CLASS'], 'normalized_mention', ID='norm',romedi_path= romedi_path)\n",
    "\n",
    "pipeline = [endlines,sections, sentenceSplitter, med, norm]"
   ]
  },
  {
   "cell_type": "code",
   "execution_count": 11,
   "metadata": {},
   "outputs": [],
   "source": [
    "data_path = pkg_resources.resource_filename('pymedext_eds', 'data/demo')\n",
    "file_list = glob(data_path + '/*.txt')\n",
    "\n",
    "docs = [rawtext_loader(x) for x in file_list]"
   ]
  },
  {
   "cell_type": "code",
   "execution_count": 12,
   "metadata": {},
   "outputs": [
    {
     "data": {
      "text/plain": [
       "2"
      ]
     },
     "execution_count": 12,
     "metadata": {},
     "output_type": "execute_result"
    }
   ],
   "source": [
    "len(docs)"
   ]
  },
  {
   "cell_type": "code",
   "execution_count": 13,
   "metadata": {},
   "outputs": [
    {
     "name": "stderr",
     "output_type": "stream",
     "text": [
      "Ignore 2 sentence(s) with no tokens.\n"
     ]
    }
   ],
   "source": [
    "for doc in docs:\n",
    "    doc.annotate(pipeline)"
   ]
  },
  {
   "cell_type": "code",
   "execution_count": 13,
   "metadata": {},
   "outputs": [
    {
     "name": "stderr",
     "output_type": "stream",
     "text": [
      "Ignore 2 sentence(s) with no tokens.\n"
     ]
    },
    {
     "data": {
      "text/plain": [
       "[<pymedextcore.annotators.Annotation at 0x7fb4243c6150>,\n",
       " <pymedextcore.annotators.Annotation at 0x7fb482f53910>,\n",
       " <pymedextcore.annotators.Annotation at 0x7fb482f53450>,\n",
       " <pymedextcore.annotators.Annotation at 0x7fb482f53750>,\n",
       " <pymedextcore.annotators.Annotation at 0x7fb482f53b50>,\n",
       " <pymedextcore.annotators.Annotation at 0x7fb482f537d0>,\n",
       " <pymedextcore.annotators.Annotation at 0x7fb482f53c90>,\n",
       " <pymedextcore.annotators.Annotation at 0x7fb482f534d0>,\n",
       " <pymedextcore.annotators.Annotation at 0x7fb482f53ad0>,\n",
       " <pymedextcore.annotators.Annotation at 0x7fb482f53c50>,\n",
       " <pymedextcore.annotators.Annotation at 0x7fb482f53cd0>,\n",
       " <pymedextcore.annotators.Annotation at 0x7fb482f53dd0>,\n",
       " <pymedextcore.annotators.Annotation at 0x7fb482f53d10>,\n",
       " <pymedextcore.annotators.Annotation at 0x7fb482f53e10>,\n",
       " <pymedextcore.annotators.Annotation at 0x7fb482f53b10>,\n",
       " <pymedextcore.annotators.Annotation at 0x7fb482f53e50>,\n",
       " <pymedextcore.annotators.Annotation at 0x7fb482f53d90>,\n",
       " <pymedextcore.annotators.Annotation at 0x7fb482f53f50>,\n",
       " <pymedextcore.annotators.Annotation at 0x7fb482f53ed0>,\n",
       " <pymedextcore.annotators.Annotation at 0x7fb482f53d50>]"
      ]
     },
     "execution_count": 13,
     "metadata": {},
     "output_type": "execute_result"
    }
   ],
   "source": [
    "med.annotate_function(doc)"
   ]
  },
  {
   "cell_type": "code",
   "execution_count": 14,
   "metadata": {},
   "outputs": [
    {
     "data": {
      "text/plain": [
       "[<pymedextcore.annotators.Annotation at 0x7f7a59d45c90>,\n",
       " <Annotation \"clean_text\">,\n",
       " <Annotation \"section\">,\n",
       " <Annotation \"section\">,\n",
       " <Annotation \"section\">,\n",
       " <Annotation \"section\">,\n",
       " <Annotation \"section\">,\n",
       " <Annotation \"section\">,\n",
       " <Annotation \"section\">,\n",
       " <Annotation \"section\">,\n",
       " <Annotation \"section\">,\n",
       " <Annotation \"section\">,\n",
       " <Annotation \"section\">,\n",
       " <Annotation \"sentence\">,\n",
       " <Annotation \"sentence\">,\n",
       " <Annotation \"sentence\">,\n",
       " <Annotation \"sentence\">,\n",
       " <Annotation \"sentence\">,\n",
       " <Annotation \"sentence\">,\n",
       " <Annotation \"sentence\">,\n",
       " <Annotation \"sentence\">,\n",
       " <Annotation \"sentence\">,\n",
       " <Annotation \"sentence\">,\n",
       " <Annotation \"sentence\">,\n",
       " <Annotation \"sentence\">,\n",
       " <Annotation \"sentence\">,\n",
       " <Annotation \"sentence\">,\n",
       " <Annotation \"sentence\">,\n",
       " <Annotation \"sentence\">,\n",
       " <Annotation \"sentence\">,\n",
       " <Annotation \"sentence\">,\n",
       " <Annotation \"sentence\">,\n",
       " <Annotation \"sentence\">,\n",
       " <Annotation \"sentence\">,\n",
       " <Annotation \"sentence\">,\n",
       " <Annotation \"sentence\">,\n",
       " <Annotation \"sentence\">,\n",
       " <Annotation \"sentence\">,\n",
       " <Annotation \"sentence\">,\n",
       " <Annotation \"sentence\">,\n",
       " <Annotation \"sentence\">,\n",
       " <Annotation \"sentence\">,\n",
       " <Annotation \"sentence\">,\n",
       " <Annotation \"sentence\">,\n",
       " <Annotation \"sentence\">,\n",
       " <Annotation \"sentence\">,\n",
       " <Annotation \"sentence\">,\n",
       " <Annotation \"sentence\">,\n",
       " <Annotation \"sentence\">,\n",
       " <Annotation \"sentence\">,\n",
       " <Annotation \"sentence\">,\n",
       " <Annotation \"sentence\">,\n",
       " <Annotation \"sentence\">,\n",
       " <Annotation \"sentence\">,\n",
       " <Annotation \"sentence\">,\n",
       " <Annotation \"sentence\">,\n",
       " <Annotation \"sentence\">,\n",
       " <Annotation \"sentence\">,\n",
       " <Annotation \"sentence\">,\n",
       " <Annotation \"sentence\">,\n",
       " <Annotation \"sentence\">,\n",
       " <Annotation \"sentence\">,\n",
       " <Annotation \"sentence\">,\n",
       " <Annotation \"sentence\">,\n",
       " <Annotation \"sentence\">,\n",
       " <Annotation \"sentence\">,\n",
       " <Annotation \"sentence\">,\n",
       " <Annotation \"sentence\">,\n",
       " <Annotation \"sentence\">,\n",
       " <Annotation \"sentence\">,\n",
       " <Annotation \"sentence\">,\n",
       " <Annotation \"sentence\">,\n",
       " <Annotation \"sentence\">,\n",
       " <Annotation \"sentence\">,\n",
       " <Annotation \"sentence\">,\n",
       " <Annotation \"sentence\">,\n",
       " <Annotation \"sentence\">,\n",
       " <Annotation \"sentence\">,\n",
       " <Annotation \"sentence\">,\n",
       " <Annotation \"sentence\">,\n",
       " <Annotation \"sentence\">,\n",
       " <Annotation \"sentence\">,\n",
       " <Annotation \"sentence\">,\n",
       " <Annotation \"sentence\">,\n",
       " <Annotation \"sentence\">,\n",
       " <Annotation \"sentence\">,\n",
       " <Annotation \"sentence\">,\n",
       " <Annotation \"sentence\">,\n",
       " <Annotation \"sentence\">,\n",
       " <Annotation \"sentence\">,\n",
       " <Annotation \"sentence\">,\n",
       " <Annotation \"sentence\">,\n",
       " <Annotation \"sentence\">,\n",
       " <Annotation \"sentence\">,\n",
       " <Annotation \"sentence\">,\n",
       " <Annotation \"sentence\">,\n",
       " <Annotation \"sentence\">,\n",
       " <Annotation \"sentence\">,\n",
       " <Annotation \"sentence\">,\n",
       " <Annotation \"sentence\">,\n",
       " <Annotation \"sentence\">,\n",
       " <Annotation \"sentence\">,\n",
       " <Annotation \"sentence\">,\n",
       " <Annotation \"sentence\">,\n",
       " <Annotation \"sentence\">,\n",
       " <Annotation \"sentence\">,\n",
       " <Annotation \"sentence\">,\n",
       " <Annotation \"sentence\">,\n",
       " <Annotation \"sentence\">,\n",
       " <Annotation \"sentence\">,\n",
       " <Annotation \"sentence\">,\n",
       " <Annotation \"sentence\">,\n",
       " <Annotation \"sentence\">,\n",
       " <Annotation \"sentence\">,\n",
       " <Annotation \"sentence\">,\n",
       " <Annotation \"sentence\">,\n",
       " <Annotation \"sentence\">,\n",
       " <Annotation \"sentence\">,\n",
       " <Annotation \"sentence\">,\n",
       " <Annotation \"sentence\">,\n",
       " <Annotation \"sentence\">,\n",
       " <Annotation \"sentence\">,\n",
       " <Annotation \"sentence\">,\n",
       " <Annotation \"sentence\">,\n",
       " <Annotation \"sentence\">,\n",
       " <Annotation \"sentence\">,\n",
       " <Annotation \"sentence\">,\n",
       " <Annotation \"sentence\">,\n",
       " <Annotation \"sentence\">,\n",
       " <Annotation \"sentence\">,\n",
       " <Annotation \"sentence\">,\n",
       " <Annotation \"sentence\">,\n",
       " <Annotation \"sentence\">,\n",
       " <Annotation \"sentence\">,\n",
       " <Annotation \"sentence\">,\n",
       " <Annotation \"sentence\">,\n",
       " <Annotation \"sentence\">,\n",
       " <Annotation \"sentence\">,\n",
       " <Annotation \"sentence\">,\n",
       " <Annotation \"sentence\">,\n",
       " <Annotation \"sentence\">,\n",
       " <Annotation \"sentence\">,\n",
       " <Annotation \"sentence\">,\n",
       " <Annotation \"sentence\">,\n",
       " <Annotation \"sentence\">,\n",
       " <Annotation \"sentence\">,\n",
       " <Annotation \"sentence\">,\n",
       " <Annotation \"sentence\">,\n",
       " <Annotation \"sentence\">,\n",
       " <Annotation \"sentence\">,\n",
       " <Annotation \"sentence\">,\n",
       " <Annotation \"sentence\">,\n",
       " <Annotation \"sentence\">,\n",
       " <Annotation \"sentence\">,\n",
       " <Annotation \"sentence\">,\n",
       " <Annotation \"sentence\">,\n",
       " <Annotation \"sentence\">,\n",
       " <Annotation \"sentence\">,\n",
       " <Annotation \"sentence\">,\n",
       " <Annotation \"sentence\">,\n",
       " <Annotation \"sentence\">,\n",
       " <Annotation \"sentence\">,\n",
       " <Annotation \"sentence\">,\n",
       " <Annotation \"sentence\">,\n",
       " <Annotation \"sentence\">,\n",
       " <pymedextcore.annotators.Annotation at 0x7f7b6972cf50>,\n",
       " <pymedextcore.annotators.Annotation at 0x7f7b6972cf90>,\n",
       " <pymedextcore.annotators.Annotation at 0x7f7a59d45a10>,\n",
       " <pymedextcore.annotators.Annotation at 0x7f7b6972c110>,\n",
       " <pymedextcore.annotators.Annotation at 0x7f7b6972c890>,\n",
       " <pymedextcore.annotators.Annotation at 0x7f7bb5339810>,\n",
       " <pymedextcore.annotators.Annotation at 0x7f7bb5339690>,\n",
       " <pymedextcore.annotators.Annotation at 0x7f7bb5339650>,\n",
       " <pymedextcore.annotators.Annotation at 0x7f7b6972c350>,\n",
       " <pymedextcore.annotators.Annotation at 0x7f7b6972cb50>,\n",
       " <pymedextcore.annotators.Annotation at 0x7f7bb5339850>,\n",
       " <pymedextcore.annotators.Annotation at 0x7f7b6972cc90>]"
      ]
     },
     "execution_count": 14,
     "metadata": {},
     "output_type": "execute_result"
    }
   ],
   "source": [
    "docs[0].annotations  #[-1].to_dict()"
   ]
  },
  {
   "cell_type": "code",
   "execution_count": 16,
   "metadata": {},
   "outputs": [
    {
     "data": {
      "text/plain": [
       "{'type': 'ENT/DRUG',\n",
       " 'value': 'HBPM',\n",
       " 'ngram': None,\n",
       " 'span': (5687, 5691),\n",
       " 'source': 'med:v2',\n",
       " 'source_ID': '4c1910bc-6210-11eb-b4db-0242ac100a62',\n",
       " 'isEntity': False,\n",
       " 'attributes': {'section': 'antecedent',\n",
       "  'score': 0.6575509309768677,\n",
       "  'ENT/DOSE': [{'value': 'dose curative',\n",
       "    'span': (5694, 5707),\n",
       "    'type': 'ENT/DOSE',\n",
       "    'attributes': {'score': 0.7201695144176483},\n",
       "    'source_ID': '4c1910bc-6210-11eb-b4db-0242ac100a62',\n",
       "    'in_blob': True,\n",
       "    'normalized_mention': ''}],\n",
       "  'snippet': 'HBPM à dose curative dès cet appel',\n",
       "  'normalized_mention': {}},\n",
       " 'ID': '504a605a-6210-11eb-b4db-0242ac100a62'}"
      ]
     },
     "execution_count": 16,
     "metadata": {},
     "output_type": "execute_result"
    }
   ],
   "source": [
    "docs[0].get_annotations('ENT/DRUG')[0].to_dict()"
   ]
  },
  {
   "cell_type": "code",
   "execution_count": null,
   "metadata": {},
   "outputs": [],
   "source": []
  }
 ],
 "metadata": {
  "kernelspec": {
   "display_name": "Python 3",
   "language": "python",
   "name": "python3"
  },
  "language_info": {
   "codemirror_mode": {
    "name": "ipython",
    "version": 3
   },
   "file_extension": ".py",
   "mimetype": "text/x-python",
   "name": "python",
   "nbconvert_exporter": "python",
   "pygments_lexer": "ipython3",
   "version": "3.7.7"
  }
 },
 "nbformat": 4,
 "nbformat_minor": 4
}
