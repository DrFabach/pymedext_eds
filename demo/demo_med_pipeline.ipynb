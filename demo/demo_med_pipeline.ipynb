{
 "cells": [
  {
   "cell_type": "code",
   "execution_count": 1,
   "metadata": {},
   "outputs": [],
   "source": [
    "%reload_ext autoreload\n",
    "%autoreload 2"
   ]
  },
  {
   "cell_type": "code",
   "execution_count": 2,
   "metadata": {},
   "outputs": [],
   "source": [
    "from glob import glob\n",
    "import pandas as pd\n",
    "import re\n",
    "from pprint import pprint\n",
    "import pkg_resources\n",
    "\n",
    "from pymedextcore.document import Document\n",
    "from pymedext_eds.annotators import Endlines, SentenceTokenizer, SectionSplitter\n",
    "from pymedext_eds.utils import rawtext_loader\n",
    "from pymedext_eds.med import MedicationAnnotator, NewMedicationAnnotator, MedicationNormalizer"
   ]
  },
  {
   "cell_type": "code",
   "execution_count": 3,
   "metadata": {},
   "outputs": [],
   "source": [
    "models_param = [\n",
    "    {'tagger_path':'data/models/apmed5/entities/final-model.pt' ,\n",
    "    'tag_name': 'entity_pred' },\n",
    "    {'tagger_path':'data/models/apmed5/events/final-model.pt' ,\n",
    "    'tag_name': 'event_pred' },\n",
    "    {'tagger_path': \"data/models/apmed5/drugblob/final-model.pt\",\n",
    "    'tag_name': 'drugblob_pred'}\n",
    "]\n",
    "\n",
    "data_path = pkg_resources.resource_filename('pymedext_eds', 'data/romedi')\n",
    "romedi_path = glob(data_path + '/*.p')[0]"
   ]
  },
  {
   "cell_type": "code",
   "execution_count": 4,
   "metadata": {},
   "outputs": [
    {
     "name": "stdout",
     "output_type": "stream",
     "text": [
      "2021-03-18 15:26:23,727 loading file data/models/apmed5/entities/final-model.pt\n",
      "2021-03-18 15:26:25,361 loading file data/models/apmed5/events/final-model.pt\n",
      "2021-03-18 15:26:26,996 loading file data/models/apmed5/drugblob/final-model.pt\n"
     ]
    }
   ],
   "source": [
    "endlines = Endlines([\"raw_text\"], \"clean_text\", ID=\"endlines\")\n",
    "sections = SectionSplitter(['clean_text'], \"section\", ID= 'sections')\n",
    "sentenceSplitter = SentenceTokenizer([\"section\"],\"sentence\", ID=\"sentences\")\n",
    "med = MedicationAnnotator(['sentence'], 'med', ID='med:v2', models_param=models_param,  device='cpu')\n",
    "norm = MedicationNormalizer(['ENT/DRUG','ENT/CLASS'], 'normalized_mention', ID='norm',romedi_path= romedi_path)"
   ]
  },
  {
   "cell_type": "code",
   "execution_count": 5,
   "metadata": {},
   "outputs": [],
   "source": [
    "pipeline = [endlines, sections, sentenceSplitter, med, norm]\n",
    "# new_pipeline = [endlines, sections, sentenceSplitter, new_med,  norm]"
   ]
  },
  {
   "cell_type": "code",
   "execution_count": 6,
   "metadata": {},
   "outputs": [],
   "source": [
    "data_path = pkg_resources.resource_filename('pymedext_eds', 'data/demo')\n",
    "file_list = glob(data_path + '/*.txt')\n",
    "\n",
    "docs = [rawtext_loader(x) for x in file_list]"
   ]
  },
  {
   "cell_type": "code",
   "execution_count": 8,
   "metadata": {},
   "outputs": [
    {
     "name": "stderr",
     "output_type": "stream",
     "text": [
      "Ignore 2 sentence(s) with no tokens.\n"
     ]
    }
   ],
   "source": [
    "for doc in docs:\n",
    "    doc.annotate(pipeline)"
   ]
  },
  {
   "cell_type": "code",
   "execution_count": 14,
   "metadata": {},
   "outputs": [
    {
     "data": {
      "text/plain": [
       "{'type': 'ENT/DRUG',\n",
       " 'value': 'doliprane',\n",
       " 'ngram': None,\n",
       " 'span': (976, 985),\n",
       " 'source': 'med:v2',\n",
       " 'source_ID': 'f1a4ee5a-87f6-11eb-b720-0242ac100a62',\n",
       " 'isEntity': False,\n",
       " 'attributes': {'section': 'head',\n",
       "  'score': 0.99920254945755,\n",
       "  'ENT/FREQ': [{'value': '3 fois par jour',\n",
       "    'span': (803, 818),\n",
       "    'type': 'ENT/FREQ',\n",
       "    'attributes': {'score': 0.8958472311496735},\n",
       "    'source_ID': 'f1a4ee5a-87f6-11eb-b720-0242ac100a62',\n",
       "    'in_blob': True,\n",
       "    'normalized_mention': 'H_1 1 0 1'},\n",
       "   {'value': '3 fois par jour',\n",
       "    'span': (864, 879),\n",
       "    'type': 'ENT/FREQ',\n",
       "    'attributes': {'score': 0.9133852571249008},\n",
       "    'source_ID': 'f1a4ee5a-87f6-11eb-b720-0242ac100a62',\n",
       "    'in_blob': True,\n",
       "    'normalized_mention': 'H_1 1 0 1'},\n",
       "   {'value': '3 fois par jour',\n",
       "    'span': (925, 940),\n",
       "    'type': 'ENT/FREQ',\n",
       "    'attributes': {'score': 0.943561464548111},\n",
       "    'source_ID': 'f1a4ee5a-87f6-11eb-b720-0242ac100a62',\n",
       "    'in_blob': True,\n",
       "    'normalized_mention': 'H_1 1 0 1'},\n",
       "   {'value': '3 fois par jour',\n",
       "    'span': (986, 1001),\n",
       "    'type': 'ENT/FREQ',\n",
       "    'attributes': {'score': 0.9465813338756561},\n",
       "    'source_ID': 'f1a4ee5a-87f6-11eb-b720-0242ac100a62',\n",
       "    'in_blob': True,\n",
       "    'normalized_mention': 'H_1 1 0 1'}],\n",
       "  'ENT/CONDITION': [{'value': 'tant que la fièvre ne basse pas',\n",
       "    'span': (819, 850),\n",
       "    'type': 'ENT/CONDITION',\n",
       "    'attributes': {'score': 0.8554387518337795},\n",
       "    'source_ID': 'f1a4ee5a-87f6-11eb-b720-0242ac100a62',\n",
       "    'in_blob': True},\n",
       "   {'value': 'tant que la fièvre ne basse pas',\n",
       "    'span': (880, 911),\n",
       "    'type': 'ENT/CONDITION',\n",
       "    'attributes': {'score': 0.8950297066143581},\n",
       "    'source_ID': 'f1a4ee5a-87f6-11eb-b720-0242ac100a62',\n",
       "    'in_blob': True},\n",
       "   {'value': 'tant que la fièvre ne basse pas',\n",
       "    'span': (941, 972),\n",
       "    'type': 'ENT/CONDITION',\n",
       "    'attributes': {'score': 0.8432287062917437},\n",
       "    'source_ID': 'f1a4ee5a-87f6-11eb-b720-0242ac100a62',\n",
       "    'in_blob': True}],\n",
       "  'snippet': 'doliprane 3 fois par jour tant que la fièvre ne basse pas et doliprane 3 fois par jour tant que la fièvre ne basse pas et doliprane 3 fois par jour tant que la fièvre ne basse pas et doliprane 3 fois par jour',\n",
       "  'normalized_mention': {'BN_label': ['DOLIPRANE'],\n",
       "   'PIN_label': ['PARACÉTAMOL'],\n",
       "   'IN_label': ['PARACÉTAMOL'],\n",
       "   'ATC7': 'N02BE01 (PARACETAMOL)',\n",
       "   'ATC5': 'N02BE (ANILIDES)',\n",
       "   'ATC4': 'N02B (AUTRES ANALGESIQUES ET ANTIPYRETIQUES)'}},\n",
       " 'ID': 'f1d56c42-87f6-11eb-b720-0242ac100a62'}"
      ]
     },
     "execution_count": 14,
     "metadata": {},
     "output_type": "execute_result"
    }
   ],
   "source": [
    "# Test du bug\n",
    "doc = Document(\"doliprane 3 fois par jour tant que la fièvre ne basse pas et \" * 100)\n",
    "doc.annotate(pipeline)\n",
    "doc.annotations[-1].to_dict()"
   ]
  },
  {
   "cell_type": "code",
   "execution_count": null,
   "metadata": {},
   "outputs": [],
   "source": [
    "pd.DataFrame.from_records(NewMedicationAnnotator.doc_to_omop(docs[0])).T"
   ]
  },
  {
   "cell_type": "code",
   "execution_count": null,
   "metadata": {},
   "outputs": [],
   "source": []
  }
 ],
 "metadata": {
  "kernelspec": {
   "display_name": "flair",
   "language": "python",
   "name": "flair"
  },
  "language_info": {
   "codemirror_mode": {
    "name": "ipython",
    "version": 3
   },
   "file_extension": ".py",
   "mimetype": "text/x-python",
   "name": "python",
   "nbconvert_exporter": "python",
   "pygments_lexer": "ipython3",
   "version": "3.7.9"
  }
 },
 "nbformat": 4,
 "nbformat_minor": 4
}
