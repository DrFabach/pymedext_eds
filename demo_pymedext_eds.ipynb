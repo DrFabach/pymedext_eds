{
 "cells": [
  {
   "cell_type": "code",
   "execution_count": 1,
   "metadata": {},
   "outputs": [],
   "source": [
    "%load_ext autoreload\n",
    "%autoreload 2"
   ]
  },
  {
   "cell_type": "code",
   "execution_count": 2,
   "metadata": {},
   "outputs": [],
   "source": [
    "from pprint import pprint\n",
    "from glob import glob\n",
    "import pkg_resources\n",
    "\n",
    "from pymedext_eds.annotators import Endlines, SentenceTokenizer, Hypothesis, \\\n",
    "                                    ATCDFamille, SyntagmeTokenizer, Negation, RegexMatcher, \\\n",
    "                                    QuickUMLSAnnotator, Pipeline\n",
    "from pymedext_eds.utils import rawtext_loader\n",
    "from pymedext_eds.viz import display_annotations"
   ]
  },
  {
   "cell_type": "markdown",
   "metadata": {},
   "source": [
    "## Load demo texts using `rawtext_loader`: "
   ]
  },
  {
   "cell_type": "code",
   "execution_count": 3,
   "metadata": {},
   "outputs": [],
   "source": [
    "data_path = pkg_resources.resource_filename('pymedext_eds', 'data/demo')\n",
    "file_list = glob(data_path + '/*.txt')\n",
    "chunk = [rawtext_loader(x) for x in file_list]"
   ]
  },
  {
   "cell_type": "markdown",
   "metadata": {},
   "source": [
    "## Create annotators and pipeline: "
   ]
  },
  {
   "cell_type": "code",
   "execution_count": 4,
   "metadata": {},
   "outputs": [],
   "source": [
    "endlines = Endlines(['raw_text'], 'endlines', 'endlines:v1')\n",
    "sentences = SentenceTokenizer(['endlines'], 'sentence', 'sentenceTokenizer:v1')\n",
    "hypothesis = Hypothesis(['sentence'], 'hypothesis', 'hypothesis:v1')\n",
    "family = ATCDFamille(['sentence'], 'context', 'ATCDfamily:v1')\n",
    "syntagmes = SyntagmeTokenizer(['sentence'], 'syntagme', 'SyntagmeTokenizer:v1')\n",
    "negation = Negation(['syntagme'], 'negation', 'Negation:v1')\n",
    "regex = RegexMatcher(['endlines','syntagme'], 'regex', 'RegexMatcher:v1', 'list_regexp.json')\n",
    "umls = QuickUMLSAnnotator(['syntagme'], 'umls', 'QuickUMLS:2020AA', \n",
    "                          quickumls_fp='data/umls2020AB_UL/',\n",
    "                            overlapping_criteria='length',\n",
    "                            threshold=0.9,\n",
    "                            similarity_name='jaccard',\n",
    "                            window=5)\n",
    "\n",
    "pipeline = Pipeline(pipeline = [endlines, sentences, hypothesis, family, syntagmes, negation, regex, umls])"
   ]
  },
  {
   "cell_type": "markdown",
   "metadata": {},
   "source": [
    "## Run the annotation pipeline : "
   ]
  },
  {
   "cell_type": "code",
   "execution_count": 5,
   "metadata": {},
   "outputs": [],
   "source": [
    "annotated_chunk = pipeline.annotate(chunk)"
   ]
  },
  {
   "cell_type": "markdown",
   "metadata": {},
   "source": [
    "## Print an annotation of type 'regex' : "
   ]
  },
  {
   "cell_type": "code",
   "execution_count": 6,
   "metadata": {},
   "outputs": [
    {
     "name": "stdout",
     "output_type": "stream",
     "text": [
      "{'ID': '662592ee-55bf-11eb-8e36-3c7d0a00025d',\n",
      " 'attributes': {'context': 'patient',\n",
      "                'hypothesis': 'certain',\n",
      "                'id_regexp': 'id_regexp_chir',\n",
      "                'label': 'Chirurgie récente',\n",
      "                'negation': 'aff',\n",
      "                'snippet': 't échanger avec moi sur la conduite à tenir ?\" . A '\n",
      "                           '12 h, le chirurgien rappelait la patiente et '\n",
      "                           'organisait un rendez-vous auprès ',\n",
      "                'version': 'v2'},\n",
      " 'isEntity': True,\n",
      " 'ngram': None,\n",
      " 'source': 'RegexMatcher:v1',\n",
      " 'source_ID': '661b9762-55bf-11eb-8e36-3c7d0a00025d',\n",
      " 'span': (5541, 5550),\n",
      " 'type': 'regex',\n",
      " 'value': 'chirurgie'}\n"
     ]
    }
   ],
   "source": [
    "pprint(chunk[0].get_annotations('regex')[10].to_dict())"
   ]
  },
  {
   "cell_type": "markdown",
   "metadata": {},
   "source": [
    "## Display annotations using `display_annotations`:"
   ]
  },
  {
   "cell_type": "code",
   "execution_count": 7,
   "metadata": {},
   "outputs": [
    {
     "data": {
      "text/html": [
       "<span class=\"tex2jax_ignore\"><div class=\"entities\" style=\"line-height: 2.5; direction: ltr\">Merci de recevoir en <mark class=\"entity\" style=\"background: #ffb3ba; padding: 0.45em 0.6em; margin: 0 0.25em; line-height: 1; border-radius: 0.35em;\">consultation<span style=\"font-size: 0.8em; font-weight: bold; line-height: 1; border-radius: 0.35em; text-transform: uppercase; vertical-align: middle; margin-left: 0.5rem\">UMLS</span></mark> Mme Jeanne Bach, présentant une <mark class=\"entity\" style=\"background: #ffb3ba; padding: 0.45em 0.6em; margin: 0 0.25em; line-height: 1; border-radius: 0.35em;\">sclérose latérale amyotrophique<span style=\"font-size: 0.8em; font-weight: bold; line-height: 1; border-radius: 0.35em; text-transform: uppercase; vertical-align: middle; margin-left: 0.5rem\">UMLS</span></mark>, débutant par une <mark class=\"entity\" style=\"background: #ffb3ba; padding: 0.45em 0.6em; margin: 0 0.25em; line-height: 1; border-radius: 0.35em;\">aphasie<span style=\"font-size: 0.8em; font-weight: bold; line-height: 1; border-radius: 0.35em; text-transform: uppercase; vertical-align: middle; margin-left: 0.5rem\">UMLS</span></mark> rapidement progressive en 2018.</br> La patiente ne présente pas de <mark class=\"entity\" style=\"background: #ffb3ba; padding: 0.45em 0.6em; margin: 0 0.25em; line-height: 1; border-radius: 0.35em;\">troubles moteurs<span style=\"font-size: 0.8em; font-weight: bold; line-height: 1; border-radius: 0.35em; text-transform: uppercase; vertical-align: middle; margin-left: 0.5rem\">UMLS</span></mark>.</br> Son état est stable avec <mark class=\"entity\" style=\"background: #ffb3ba; padding: 0.45em 0.6em; margin: 0 0.25em; line-height: 1; border-radius: 0.35em;\">traitement symptomatique<span style=\"font-size: 0.8em; font-weight: bold; line-height: 1; border-radius: 0.35em; text-transform: uppercase; vertical-align: middle; margin-left: 0.5rem\">UMLS</span></mark> pour l'<mark class=\"entity\" style=\"background: #ffb3ba; padding: 0.45em 0.6em; margin: 0 0.25em; line-height: 1; border-radius: 0.35em;\">humeur<span style=\"font-size: 0.8em; font-weight: bold; line-height: 1; border-radius: 0.35em; text-transform: uppercase; vertical-align: middle; margin-left: 0.5rem\">UMLS</span></mark>, Deroxat 2 mg / j.</br> Dr Jérome Ben Soussan.</br> <mark class=\"entity\" style=\"background: #ffb3ba; padding: 0.45em 0.6em; margin: 0 0.25em; line-height: 1; border-radius: 0.35em;\">Examen clinique<span style=\"font-size: 0.8em; font-weight: bold; line-height: 1; border-radius: 0.35em; text-transform: uppercase; vertical-align: middle; margin-left: 0.5rem\">UMLS</span></mark>:</br> - signe du flot</br> - <mark class=\"entity\" style=\"background: #ffb3ba; padding: 0.45em 0.6em; margin: 0 0.25em; line-height: 1; border-radius: 0.35em;\">souffle cardiaque<span style=\"font-size: 0.8em; font-weight: bold; line-height: 1; border-radius: 0.35em; text-transform: uppercase; vertical-align: middle; margin-left: 0.5rem\">UMLS</span></mark></div></span>"
      ],
      "text/plain": [
       "<IPython.core.display.HTML object>"
      ]
     },
     "metadata": {},
     "output_type": "display_data"
    }
   ],
   "source": [
    "display_annotations(chunk[2], ['umls'], attributes = ['negation', 'hypothesis','context', 'semtypes'], label_key = 'cui')"
   ]
  }
 ],
 "metadata": {
  "kernelspec": {
   "display_name": "Python 3",
   "language": "python",
   "name": "python3"
  },
  "language_info": {
   "codemirror_mode": {
    "name": "ipython",
    "version": 3
   },
   "file_extension": ".py",
   "mimetype": "text/x-python",
   "name": "python",
   "nbconvert_exporter": "python",
   "pygments_lexer": "ipython3",
   "version": "3.8.5"
  }
 },
 "nbformat": 4,
 "nbformat_minor": 4
}
