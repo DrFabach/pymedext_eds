{
 "cells": [
  {
   "cell_type": "code",
   "execution_count": 11,
   "metadata": {},
   "outputs": [
    {
     "name": "stdout",
     "output_type": "stream",
     "text": [
      "The autoreload extension is already loaded. To reload it, use:\n",
      "  %reload_ext autoreload\n"
     ]
    }
   ],
   "source": [
    "%load_ext autoreload\n",
    "%autoreload 2"
   ]
  },
  {
   "cell_type": "code",
   "execution_count": 12,
   "metadata": {},
   "outputs": [],
   "source": [
    "from pprint import pprint\n",
    "import glob\n",
    "\n",
    "from pymedext_eds.annotators import Endlines, SentenceTokenizer, Hypothesis, ATCDFamille, SyntagmeTokenizer, Negation, RegexMatcher, rawtext_loader"
   ]
  },
  {
   "cell_type": "code",
   "execution_count": 13,
   "metadata": {},
   "outputs": [],
   "source": [
    "file_list = glob.glob('/export/home/cse180025/tmp_fast/for_inference_covid_v2/2980/*.txt')\n",
    "chunk = [rawtext_loader(x) for x in file_list]"
   ]
  },
  {
   "cell_type": "code",
   "execution_count": 9,
   "metadata": {},
   "outputs": [],
   "source": [
    "endlines = Endlines(['raw_text'], 'endlines', 'endlines:v1')\n",
    "sentences = SentenceTokenizer(['endlines'], 'sentence', 'sentenceTokenizer:v1')\n",
    "hypothesis = Hypothesis(['sentence'], 'hypothesis', 'hypothesis:v1')\n",
    "family = ATCDFamille(['sentence'], 'context', 'ATCDfamily:v1')\n",
    "syntagmes = SyntagmeTokenizer(['sentence'], 'syntagme', 'SyntagmeTokenizer:v1')\n",
    "negation = Negation(['syntagme'], 'negation', 'Negation:v1')\n",
    "regex = RegexMatcher(['endlines','syntagme'], 'regex', 'RegexMatcher:v1', 'list_regexp.json')"
   ]
  },
  {
   "cell_type": "code",
   "execution_count": 10,
   "metadata": {},
   "outputs": [
    {
     "name": "stdout",
     "output_type": "stream",
     "text": [
      "0.9896223545074463\n"
     ]
    }
   ],
   "source": [
    "import time\n",
    "t = time.time()\n",
    "for c in chunk[:30]: \n",
    "    c.annotate([endlines, sentences, hypothesis, family, syntagmes, negation, regex])\n",
    "print(time.time()-t)"
   ]
  }
 ],
 "metadata": {
  "kernelspec": {
   "display_name": "Python 3",
   "language": "python",
   "name": "python3"
  },
  "language_info": {
   "codemirror_mode": {
    "name": "ipython",
    "version": 3
   },
   "file_extension": ".py",
   "mimetype": "text/x-python",
   "name": "python",
   "nbconvert_exporter": "python",
   "pygments_lexer": "ipython3",
   "version": "3.6.7"
  }
 },
 "nbformat": 4,
 "nbformat_minor": 4
}
