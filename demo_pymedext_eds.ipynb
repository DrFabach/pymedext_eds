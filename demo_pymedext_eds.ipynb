{
 "cells": [
  {
   "cell_type": "code",
   "execution_count": 1,
   "metadata": {},
   "outputs": [],
   "source": [
    "%load_ext autoreload\n",
    "%autoreload 2"
   ]
  },
  {
   "cell_type": "code",
   "execution_count": 18,
   "metadata": {},
   "outputs": [],
   "source": [
    "from pprint import pprint\n",
    "from glob import glob\n",
    "import pkg_resources\n",
    "\n",
    "from pymedext_eds.annotators import Endlines, SentenceTokenizer, Hypothesis, ATCDFamille, SyntagmeTokenizer, Negation, RegexMatcher, QuickUMLSAnnotator, rawtext_loader"
   ]
  },
  {
   "cell_type": "code",
   "execution_count": 14,
   "metadata": {},
   "outputs": [],
   "source": [
    "data_path = pkg_resources.resource_filename('pymedext_eds', 'data/demo')\n",
    "file_list = glob(data_path + '/*.txt')\n",
    "chunk = [rawtext_loader(x) for x in file_list]"
   ]
  },
  {
   "cell_type": "code",
   "execution_count": 15,
   "metadata": {},
   "outputs": [],
   "source": [
    "endlines = Endlines(['raw_text'], 'endlines', 'endlines:v1')\n",
    "sentences = SentenceTokenizer(['endlines'], 'sentence', 'sentenceTokenizer:v1')\n",
    "hypothesis = Hypothesis(['sentence'], 'hypothesis', 'hypothesis:v1')\n",
    "family = ATCDFamille(['sentence'], 'context', 'ATCDfamily:v1')\n",
    "syntagmes = SyntagmeTokenizer(['sentence'], 'syntagme', 'SyntagmeTokenizer:v1')\n",
    "negation = Negation(['syntagme'], 'negation', 'Negation:v1')\n",
    "regex = RegexMatcher(['endlines','syntagme'], 'regex', 'RegexMatcher:v1', 'list_regexp.json')\n",
    "\n",
    "pipeline = [endlines, sentences, hypothesis, family, syntagmes, negation, regex]"
   ]
  },
  {
   "cell_type": "code",
   "execution_count": 16,
   "metadata": {},
   "outputs": [],
   "source": [
    "for c in chunk: \n",
    "    c.annotate(pipeline)"
   ]
  },
  {
   "cell_type": "code",
   "execution_count": 17,
   "metadata": {},
   "outputs": [
    {
     "data": {
      "text/plain": [
       "{'type': 'regex',\n",
       " 'value': 'embolie',\n",
       " 'ngram': None,\n",
       " 'span': (77, 84),\n",
       " 'source': 'RegexMatcher:v1',\n",
       " 'source_ID': '0f49c5d8-1f70-11eb-bad2-a18a3691cf99',\n",
       " 'isEntity': True,\n",
       " 'attributes': {'version': 'v1',\n",
       "  'label': 'CSE200048 Cardiovascular',\n",
       "  'id_regexp': 'id_regexp_CSE200048_cardiovascular',\n",
       "  'snippet': \"aux 1,62 m pour 65,7 kg = IMC à 25,03.. En 1974 ,19 ans , , embolie pulmonaire compliquant une phlébite lors d'un alitement à l\",\n",
       "  'hypothesis': 'certain',\n",
       "  'context': 'patient',\n",
       "  'negation': 'aff'},\n",
       " 'id': '0f4edc6c-1f70-11eb-bad2-a18a3691cf99'}"
      ]
     },
     "execution_count": 17,
     "metadata": {},
     "output_type": "execute_result"
    }
   ],
   "source": [
    "chunk[0].get_annotations('regex')[4].to_dict()"
   ]
  },
  {
   "cell_type": "code",
   "execution_count": null,
   "metadata": {},
   "outputs": [],
   "source": []
  }
 ],
 "metadata": {
  "kernelspec": {
   "display_name": "Python 3",
   "language": "python",
   "name": "python3"
  },
  "language_info": {
   "codemirror_mode": {
    "name": "ipython",
    "version": 3
   },
   "file_extension": ".py",
   "mimetype": "text/x-python",
   "name": "python",
   "nbconvert_exporter": "python",
   "pygments_lexer": "ipython3",
   "version": "3.6.7"
  }
 },
 "nbformat": 4,
 "nbformat_minor": 4
}
