{
 "cells": [
  {
   "cell_type": "code",
   "execution_count": 1,
   "metadata": {},
   "outputs": [],
   "source": [
    "%load_ext autoreload\n",
    "%autoreload 2"
   ]
  },
  {
   "cell_type": "code",
   "execution_count": 2,
   "metadata": {},
   "outputs": [],
   "source": [
    "from pprint import pprint\n",
    "from glob import glob\n",
    "import pkg_resources\n",
    "\n",
    "from pymedext_eds.annotators import Endlines, SentenceTokenizer, Hypothesis, \\\n",
    "                                    ATCDFamille, SyntagmeTokenizer, Negation, RegexMatcher, \\\n",
    "                                    QuickUMLSAnnotator, Pipeline\n",
    "from pymedext_eds.utils import rawtext_loader\n",
    "from pymedext_eds.viz import display_annotations"
   ]
  },
  {
   "cell_type": "code",
   "execution_count": 78,
   "metadata": {},
   "outputs": [],
   "source": [
    "from pymedextcore.document import Document"
   ]
  },
  {
   "cell_type": "code",
   "execution_count": 90,
   "metadata": {},
   "outputs": [],
   "source": [
    "doc = Document(\"\"\"\n",
    "Ariel adore le fromage.\n",
    "Sonia fait de très bons macarons.\n",
    "\"\"\")"
   ]
  },
  {
   "cell_type": "code",
   "execution_count": 91,
   "metadata": {},
   "outputs": [
    {
     "data": {
      "text/plain": [
       "[<pymedextcore.annotators.Annotation at 0x7ff64878caf0>]"
      ]
     },
     "execution_count": 91,
     "metadata": {},
     "output_type": "execute_result"
    }
   ],
   "source": [
    "doc.annotations"
   ]
  },
  {
   "cell_type": "code",
   "execution_count": 92,
   "metadata": {},
   "outputs": [
    {
     "data": {
      "text/plain": [
       "[{'annotations': [{'type': 'raw_text',\n",
       "    'value': '\\nAriel adore le fromage.\\nSonia fait de très bons macarons.\\n',\n",
       "    'ngram': None,\n",
       "    'span': (0, 59),\n",
       "    'source': None,\n",
       "    'source_ID': None,\n",
       "    'isEntity': False,\n",
       "    'attributes': None,\n",
       "    'ID': 'ab99f4be-4575-11eb-864c-3b15d0b9c6c7'},\n",
       "   {'type': 'endlines',\n",
       "    'value': '. Ariel adore le fromage.. Sonia fait de très bons macarons.. ',\n",
       "    'ngram': None,\n",
       "    'span': (0, 62),\n",
       "    'source': 'endlines:v0',\n",
       "    'source_ID': 'ab99f4be-4575-11eb-864c-3b15d0b9c6c7',\n",
       "    'isEntity': False,\n",
       "    'attributes': None,\n",
       "    'ID': 'ac829390-4575-11eb-864c-3b15d0b9c6c7'},\n",
       "   {'type': 'sentence',\n",
       "    'value': ' Ariel adore le fromage',\n",
       "    'ngram': None,\n",
       "    'span': (1, 24),\n",
       "    'source': 'sentenceTokenizer:v0',\n",
       "    'source_ID': 'ac829390-4575-11eb-864c-3b15d0b9c6c7',\n",
       "    'isEntity': False,\n",
       "    'attributes': {'hypothesis': 'certain', 'context': 'patient'},\n",
       "    'ID': 'ac829391-4575-11eb-864c-3b15d0b9c6c7'},\n",
       "   {'type': 'sentence',\n",
       "    'value': ' Sonia fait de très bons macarons',\n",
       "    'ngram': None,\n",
       "    'span': (26, 59),\n",
       "    'source': 'sentenceTokenizer:v0',\n",
       "    'source_ID': 'ac829390-4575-11eb-864c-3b15d0b9c6c7',\n",
       "    'isEntity': False,\n",
       "    'attributes': {'hypothesis': 'certain', 'context': 'patient'},\n",
       "    'ID': 'ac829392-4575-11eb-864c-3b15d0b9c6c7'},\n",
       "   {'type': 'syntagme',\n",
       "    'value': ' Ariel adore le fromage',\n",
       "    'ngram': None,\n",
       "    'span': (1, 23),\n",
       "    'source': 'SyntagmeTokenizer:v0',\n",
       "    'source_ID': 'ac829391-4575-11eb-864c-3b15d0b9c6c7',\n",
       "    'isEntity': False,\n",
       "    'attributes': {'hypothesis': 'certain',\n",
       "     'context': 'patient',\n",
       "     'negation': 'aff'},\n",
       "    'ID': 'ac829393-4575-11eb-864c-3b15d0b9c6c7'},\n",
       "   {'type': 'syntagme',\n",
       "    'value': ' Sonia fait de très bons macarons',\n",
       "    'ngram': None,\n",
       "    'span': (26, 58),\n",
       "    'source': 'SyntagmeTokenizer:v0',\n",
       "    'source_ID': 'ac829392-4575-11eb-864c-3b15d0b9c6c7',\n",
       "    'isEntity': False,\n",
       "    'attributes': {'hypothesis': 'certain',\n",
       "     'context': 'patient',\n",
       "     'negation': 'aff'},\n",
       "    'ID': 'ac829394-4575-11eb-864c-3b15d0b9c6c7'},\n",
       "   {'type': 'regex',\n",
       "    'value': 'macarons',\n",
       "    'ngram': None,\n",
       "    'span': (51, 59),\n",
       "    'source': 'RegexMatcher:v0',\n",
       "    'source_ID': 'ac829394-4575-11eb-864c-3b15d0b9c6c7',\n",
       "    'isEntity': True,\n",
       "    'attributes': {'version': 'v1',\n",
       "     'label': 'macaron',\n",
       "     'id_regexp': 'macaron',\n",
       "     'snippet': '\\nAriel adore le fromage.\\nSonia fait de très bons macarons.\\n',\n",
       "     'hypothesis': 'certain',\n",
       "     'context': 'patient',\n",
       "     'negation': 'aff'},\n",
       "    'ID': 'ac829395-4575-11eb-864c-3b15d0b9c6c7'},\n",
       "   {'type': 'regex',\n",
       "    'value': 'fromage',\n",
       "    'ngram': None,\n",
       "    'span': (17, 24),\n",
       "    'source': 'RegexMatcher:v0',\n",
       "    'source_ID': 'ac829393-4575-11eb-864c-3b15d0b9c6c7',\n",
       "    'isEntity': True,\n",
       "    'attributes': {'version': 'v1',\n",
       "     'label': 'fromage',\n",
       "     'id_regexp': 'fromage',\n",
       "     'snippet': '\\nAriel adore le fromage.\\nSonia fait de très bons macarons.\\n',\n",
       "     'hypothesis': 'certain',\n",
       "     'context': 'patient',\n",
       "     'negation': 'aff'},\n",
       "    'ID': 'ac829396-4575-11eb-864c-3b15d0b9c6c7'}],\n",
       "  'ID': 'ab99f4bf-4575-11eb-864c-3b15d0b9c6c7',\n",
       "  'source_ID': None,\n",
       "  'attributes': None,\n",
       "  'documentDate': None}]"
      ]
     },
     "execution_count": 92,
     "metadata": {},
     "output_type": "execute_result"
    }
   ],
   "source": [
    "pipeline.annotate([doc])"
   ]
  },
  {
   "cell_type": "code",
   "execution_count": 93,
   "metadata": {},
   "outputs": [
    {
     "data": {
      "text/plain": [
       "[<pymedextcore.annotators.Annotation at 0x7ff64878caf0>,\n",
       " <pymedextcore.annotators.Annotation at 0x7ff64878ce80>,\n",
       " <pymedextcore.annotators.Annotation at 0x7ff64878c520>,\n",
       " <pymedextcore.annotators.Annotation at 0x7ff64878c370>,\n",
       " <pymedextcore.annotators.Annotation at 0x7ff64878c970>,\n",
       " <pymedextcore.annotators.Annotation at 0x7ff64878c220>,\n",
       " <pymedextcore.annotators.Annotation at 0x7ff62b3dfcd0>,\n",
       " <pymedextcore.annotators.Annotation at 0x7ff62b3dfb80>]"
      ]
     },
     "execution_count": 93,
     "metadata": {},
     "output_type": "execute_result"
    }
   ],
   "source": [
    "doc.annotations"
   ]
  },
  {
   "cell_type": "code",
   "execution_count": 72,
   "metadata": {},
   "outputs": [],
   "source": [
    "data_path = pkg_resources.resource_filename('pymedext_eds', 'data/demo')\n",
    "file_list = glob(data_path + '/*.txt')\n",
    "chunk = [rawtext_loader(x) for x in file_list]"
   ]
  },
  {
   "cell_type": "code",
   "execution_count": 61,
   "metadata": {},
   "outputs": [],
   "source": [
    "import json"
   ]
  },
  {
   "cell_type": "code",
   "execution_count": 73,
   "metadata": {},
   "outputs": [],
   "source": [
    "doc = chunk[0]"
   ]
  },
  {
   "cell_type": "code",
   "execution_count": 74,
   "metadata": {},
   "outputs": [
    {
     "data": {
      "text/plain": [
       "[<pymedextcore.annotators.Annotation at 0x7ff6487921c0>]"
      ]
     },
     "execution_count": 74,
     "metadata": {},
     "output_type": "execute_result"
    }
   ],
   "source": [
    "doc.annotations"
   ]
  },
  {
   "cell_type": "code",
   "execution_count": 75,
   "metadata": {},
   "outputs": [],
   "source": [
    "ann = doc.annotations[0]"
   ]
  },
  {
   "cell_type": "code",
   "execution_count": 89,
   "metadata": {},
   "outputs": [],
   "source": [
    "endlines = Endlines(['raw_text'], 'endlines', 'endlines:v0')\n",
    "sentences = SentenceTokenizer(['endlines'], 'sentence', 'sentenceTokenizer:v0')\n",
    "hypothesis = Hypothesis(['sentence'], 'hypothesis', 'hypothesis:v0')\n",
    "family = ATCDFamille(['sentence'], 'context', 'ATCDfamily:v0')\n",
    "syntagmes = SyntagmeTokenizer(['sentence'], 'syntagme', 'SyntagmeTokenizer:v0')\n",
    "negation = Negation(['syntagme'], 'negation', 'Negation:v0')\n",
    "regex = RegexMatcher(['raw_text', 'syntagme'], 'regex', 'RegexMatcher:v0', 'patterns.json')\n",
    "\n",
    "pipeline = Pipeline(pipeline = [endlines, sentences, hypothesis, family, syntagmes, negation, regex])"
   ]
  },
  {
   "cell_type": "code",
   "execution_count": 65,
   "metadata": {},
   "outputs": [],
   "source": [
    "annotated_chunk = pipeline.annotate(chunk)"
   ]
  },
  {
   "cell_type": "code",
   "execution_count": 66,
   "metadata": {},
   "outputs": [
    {
     "name": "stdout",
     "output_type": "stream",
     "text": [
      "{'ID': 'ab3d5429-4570-11eb-864c-3b15d0b9c6c7',\n",
      " 'attributes': {'context': 'patient',\n",
      "                'hypothesis': 'certain',\n",
      "                'id_regexp': 'arythmie',\n",
      "                'label': 'arythmie',\n",
      "                'negation': 'aff',\n",
      "                'snippet': 'otension artérielle associée à des passages en '\n",
      "                           'arythmie par fibrillation auriculaire, à une '\n",
      "                           'anurie et à une insuffisance respira',\n",
      "                'version': 'v1'},\n",
      " 'isEntity': True,\n",
      " 'ngram': None,\n",
      " 'source': 'RegexMatcher:v0',\n",
      " 'source_ID': 'ab3d541d-4570-11eb-864c-3b15d0b9c6c7',\n",
      " 'span': (6019, 6027),\n",
      " 'type': 'regex',\n",
      " 'value': 'arythmie'}\n"
     ]
    }
   ],
   "source": [
    "pprint(chunk[0].get_annotations('regex')[1].to_dict())"
   ]
  },
  {
   "cell_type": "code",
   "execution_count": 67,
   "metadata": {},
   "outputs": [],
   "source": [
    "record = chunk[0].get_annotations('regex')[1].to_dict()"
   ]
  },
  {
   "cell_type": "code",
   "execution_count": 68,
   "metadata": {},
   "outputs": [],
   "source": [
    "def to_omop(record):\n",
    "    s, e = record['span']\n",
    "    \n",
    "    attr = record['attributes']\n",
    "    \n",
    "    d = dict(\n",
    "        lexical_variant=record['value'],\n",
    "        start=s,\n",
    "        end=e,\n",
    "        offset=f\"{s},{e}\",\n",
    "        snippet=attr['snippet'],\n",
    "        term_modifiers=','.join([f'{k}={v}' for k, v in attr.items() if k not in {'snippet', 'label'}])\n",
    "    )\n",
    "    \n",
    "    return d"
   ]
  },
  {
   "cell_type": "code",
   "execution_count": 69,
   "metadata": {},
   "outputs": [
    {
     "data": {
      "text/plain": [
       "{'lexical_variant': 'arythmie',\n",
       " 'start': 6019,\n",
       " 'end': 6027,\n",
       " 'offset': '6019,6027',\n",
       " 'snippet': 'otension artérielle associée à des passages en arythmie par fibrillation auriculaire, à une anurie et à une insuffisance respira',\n",
       " 'term_modifiers': 'version=v1,id_regexp=arythmie,hypothesis=certain,context=patient,negation=aff'}"
      ]
     },
     "execution_count": 69,
     "metadata": {},
     "output_type": "execute_result"
    }
   ],
   "source": [
    "to_omop(record)"
   ]
  },
  {
   "cell_type": "code",
   "execution_count": 70,
   "metadata": {},
   "outputs": [],
   "source": [
    "import pandas as pd"
   ]
  },
  {
   "cell_type": "code",
   "execution_count": 71,
   "metadata": {},
   "outputs": [
    {
     "data": {
      "text/html": [
       "<div>\n",
       "<style scoped>\n",
       "    .dataframe tbody tr th:only-of-type {\n",
       "        vertical-align: middle;\n",
       "    }\n",
       "\n",
       "    .dataframe tbody tr th {\n",
       "        vertical-align: top;\n",
       "    }\n",
       "\n",
       "    .dataframe thead th {\n",
       "        text-align: right;\n",
       "    }\n",
       "</style>\n",
       "<table border=\"1\" class=\"dataframe\">\n",
       "  <thead>\n",
       "    <tr style=\"text-align: right;\">\n",
       "      <th></th>\n",
       "      <th>lexical_variant</th>\n",
       "      <th>start</th>\n",
       "      <th>end</th>\n",
       "      <th>offset</th>\n",
       "      <th>snippet</th>\n",
       "      <th>term_modifiers</th>\n",
       "    </tr>\n",
       "  </thead>\n",
       "  <tbody>\n",
       "    <tr>\n",
       "      <th>0</th>\n",
       "      <td>arythmie</td>\n",
       "      <td>3105</td>\n",
       "      <td>3113</td>\n",
       "      <td>3105,3113</td>\n",
       "      <td>lle à 60/40 mmHg, une fréquence cardiaque à 12...</td>\n",
       "      <td>version=v1,id_regexp=arythmie,hypothesis=certa...</td>\n",
       "    </tr>\n",
       "    <tr>\n",
       "      <th>1</th>\n",
       "      <td>arythmie</td>\n",
       "      <td>6019</td>\n",
       "      <td>6027</td>\n",
       "      <td>6019,6027</td>\n",
       "      <td>otension artérielle associée à des passages en...</td>\n",
       "      <td>version=v1,id_regexp=arythmie,hypothesis=certa...</td>\n",
       "    </tr>\n",
       "  </tbody>\n",
       "</table>\n",
       "</div>"
      ],
      "text/plain": [
       "  lexical_variant  start   end     offset  \\\n",
       "0        arythmie   3105  3113  3105,3113   \n",
       "1        arythmie   6019  6027  6019,6027   \n",
       "\n",
       "                                             snippet  \\\n",
       "0  lle à 60/40 mmHg, une fréquence cardiaque à 12...   \n",
       "1  otension artérielle associée à des passages en...   \n",
       "\n",
       "                                      term_modifiers  \n",
       "0  version=v1,id_regexp=arythmie,hypothesis=certa...  \n",
       "1  version=v1,id_regexp=arythmie,hypothesis=certa...  "
      ]
     },
     "execution_count": 71,
     "metadata": {},
     "output_type": "execute_result"
    }
   ],
   "source": [
    "pd.DataFrame.from_records([\n",
    "    to_omop(ann.to_dict())\n",
    "    for ann in chunk[0].get_annotations('regex')\n",
    "]).sort_values('start')"
   ]
  },
  {
   "cell_type": "code",
   "execution_count": 43,
   "metadata": {},
   "outputs": [
    {
     "data": {
      "text/html": [
       "<span class=\"tex2jax_ignore\"><div class=\"entities\" style=\"line-height: 2.5; direction: ltr\">Le 9 décembre 2010, une femme de 79 ans reçoit un traitement par Pyostacine® pour, semble-t-il, un ulcère variqueux infecté</br> Cette patiente vit chez son fils</br> Elle est autonome pour les actes de la vie quotidienne et se déplace avec l'aide d'une canne</br> Elle bénéficie d'une aide à la toilette.</br> Le 10 décembre, apparaissent des lésions cutanées.</br> Le 13 décembre, la patiente est hospitalisée pour une altération de l'état général dans un contexte de diarrhée.</br> Lors de l’admission, il est noté une éruption maculo-papuleuse, localisée au niveau du siège, du thorax, de la racine des cuisses et des genoux, avec un signe de Nikolsky positif   ; tendance de la peau à se décoller par simple pression ou frottement </br> Un prurit est associé aux lésions</br> Il n'est pas retrouvé d'atteinte des muqueuses.</br> Le bilan biologique montre un syndrome inflammatoire avec une CRP à 198 mg/L.</br> Le 14 décembre, les lésions se majorent avec des signes de décollement faisant suspecter un syndrome de Lyell</br> Toutes les thérapeutiques sont arrêtées et un avis est pris dans le service de dermatologie du CHU.</br> Le diagnostic de toxémie bulleuse grave avec un décollement au niveau des pieds et du siège était évoqué.</br> Un traitement par des soins locaux avec des pansements au tulle gras et une douche quotidienne au Plurexid® est mis en œuvre</br> Une déclaration de pharmacovigilance était faite.</br> La patiente reste hospitalisée jusqu'au 17 janvier 2011 dans le service de médecine infectieuse, date à laquelle elle est transférée dans le service de gériatrie du centre hospitalier.</br> Grâce aux soins locaux, les lésions cutanées évoluent favorablement avec une ré-épidermisation quasi complète.</br> Le 10 février 2011, elle regagne son domicile.</br> Le courrier de sortie, envoyé à son médecin traitant, mentionne : &quot;Reprise de l'autonomie de marche et guérison d'une toxémie bulleuse post-antibiothérapie, chez une femme âgée de 79 ans, obèse et suivie pour hypertension.&quot;</br> Un livret nutritionnel ainsi qu'une fiche avec les médicaments &quot;mal tolérés&quot; étaient remis à la patiente.</br> Dans les suites de cette hospitalisation, la patiente continue d’être suivie, de façon régulière, par son médecin traitant, environ tous les 2 mois, notamment pour le renouvellement de ses ordonnances</br> Il n'y a pas d'exploration complémentaire ou de bilan allergologique.</br> Le 17 février 2014, un traitement par Augmentin® est prescrit à la patiente par son médecin pour une bronchite aiguë</br></br> En raison d'une diarrhée, l’Augmentin® est remplacé par de la Rocéphine® pour une durée de 7 jours ,du 21 au 28 février ,  associé à du Solupred® pendant 3 jours.</br> Le 28 février, de l'Oroken® est prescrit en association à un traitement par Pulmicort®.</br> Le 1er mars, le médecin traitant juge que l’état de la patiente nécessite son hospitalisation dans la polyclinique proche de son domicile</br> Après un entretien téléphonique avec le SAMU, le transfert s’effectue en ambulance</br> Dans le courrier adressé au service d'urgences, il n'est pas noté d'allergie.</br> A l’admission, il existe une hypotension artérielle à 60/40 mmHg, une fréquence cardiaque à 127/min en <mark class=\"entity\" style=\"background: #ffb3ba; padding: 0.45em 0.6em; margin: 0 0.25em; line-height: 1; border-radius: 0.35em;\">arythmie<span style=\"font-size: 0.8em; font-weight: bold; line-height: 1; border-radius: 0.35em; text-transform: uppercase; vertical-align: middle; margin-left: 0.5rem\">REGEX</span></mark> et une hypothermie à 35,5°C</br> L'auscultation pulmonaire retrouve des ronchus bilatéraux</br> Biologiquement, hypoxie à 80 mmHg avec une hypocapnie à 23 mmHg, syndrome inflammatoire majeur et insuffisance rénale.</br> Le scanner thoracique révèle des abcès pulmonaires bilatéraux et distaux.</br> Sur la fiche d’admission remplie par le médecin urgentiste et l'infirmière s'occupant de la patiente, il est noté dans la case allergies/intolérances: &quot;Pyostacine ? Augmentin ? Allergie à un antibiotique, lequel ?&quot;.</br> Sur une observation informatisée saisie le même jour, à 15 h 52, par l'infirmière, il est écrit &quot;Notion d'allergie à un antibiotique non identifié par la famille&quot;.</br> A 17 h, tension artérielle à 107/50 mmHg, fréquence cardiaque à 129/ min, température à 36,5°C</br> SaO2 à 97 %.</br> A 21 h, tension artérielle à 97/52 mmHg, fréquence cardiaque à 99 /min.</br> Après la réalisation de prélèvements bactériologiques, un traitement associant Rocéphine® et Pyostacine® est débuté à 21 h 10.</br> Le 2 mars à 7 h, dégradation de l'état clinique avec survenue d'une hypotension associée à un rash</br> La patiente est transférée en réanimation avec maintien de la tension artérielle par une perfusion de noradrenaline</br> SaO2 à 94 % sous 10 litres d'oxygène</br> Mise sous Tazocilline® et Zyvoxi®</br> Le 3 mars, amélioration de l’état clinique mais apparition de phlyctènes au niveau du dos.</br> Le 5 mars, évolution favorable de l’état infectieux mais progression des lésions cutanées qui deviennent bulleuses avec un exanthème et un signe Nikolsky positif</br> Instauration d’un traitement local sur prescription d'un dermatologue.</br> Présence d’un Staphyloccocus sp multi-sensible dans les hémocultures prélevées le 1er mars 2014 et d’un Pseudomonas aeruginosa à la culture de l’expectoration et du prélèvement effectué au niveau d’un ulcère variqueux.</br> Le 5 mars, transfert dans le service des brûlés du CHU, devant l'extension des lésions cutanées</br>  </br> Le courrier de sortie de réanimation conclue à : &quot;Etat de choc mixte, d'une part choc anaphylactique à la Pyostacine® et d'autre part choc septique en rapport avec des abcès pulmonaires dont la porte d'entrée est probablement cutanée.&quot;</br> A l’admission au CHU, la patiente était confuse, mais eupnéique en air ambiant, avec une tension artérielle stable sous perfusion de noradrénaline ,en cours de sevrage , .</br> Le diagnostic posé est: &quot;,… ,  Epidermolyse nécrosante suraiguë avec décollement cutané supérieur ou égal à 30 %</br> Nécrolyse épidermique ,score TEN à 4 ,  ,… , &quot;</br>  La surface totale brûlée était estimée à 37 %.</br> Poursuite du traitement par Tazocilline® et Zyvoxid® jusqu’au 10 mars, associés à des antalgiques</br> Au cours de l'évolution, le décollement était estimé à 80 % de la surface cutanée, les lésions restant stables mais sans ébauche de cicatrisation.</br> Le 14 mars, apparition brutale d'une défaillance multi-viscérale avec une hypotension artérielle associée à des passages en <mark class=\"entity\" style=\"background: #ffb3ba; padding: 0.45em 0.6em; margin: 0 0.25em; line-height: 1; border-radius: 0.35em;\">arythmie<span style=\"font-size: 0.8em; font-weight: bold; line-height: 1; border-radius: 0.35em; text-transform: uppercase; vertical-align: middle; margin-left: 0.5rem\">REGEX</span></mark> par fibrillation auriculaire, à une anurie et à une insuffisance respiratoire par encombrement bronchique</br> Décès rapide malgré la mise en route d’une réanimation cardio-circulatoire et respiratoire.</br> Assignation du médecin traitant et de la polyclinique par les proches de la patiente pour obtenir réparation des préjudices qu’ils avaient subis ,novembre 2015 ,  :</br> Au médecin traitant, il était reproché l'omission de l'allergie grave à la Pyostacine® dans son courrier de liaison aux urgences ;</br> A la polyclinique, il était reproché l'absence de prise en compte des déclarations d'allergie par la famille, lors de l'admission de la patiente.</div></span>"
      ],
      "text/plain": [
       "<IPython.core.display.HTML object>"
      ]
     },
     "metadata": {},
     "output_type": "display_data"
    }
   ],
   "source": [
    "display_annotations(chunk[0], ['regex'], attributes = ['negation', 'hypothesis', 'context'], label_key = 'label')"
   ]
  },
  {
   "cell_type": "code",
   "execution_count": 47,
   "metadata": {},
   "outputs": [
    {
     "data": {
      "text/plain": [
       "{'type': 'endlines',\n",
       " 'value': 'Le 9 décembre 2010, une femme de 79 ans reçoit un traitement par Pyostacine® pour, semble-t-il, un ulcère variqueux infecté. Cette patiente vit chez son fils. Elle est autonome pour les actes de la vie quotidienne et se déplace avec l\\'aide d\\'une canne. Elle bénéficie d\\'une aide à la toilette.. Le 10 décembre, apparaissent des lésions cutanées.. Le 13 décembre, la patiente est hospitalisée pour une altération de l\\'état général dans un contexte de diarrhée.. Lors de l’admission, il est noté une éruption maculo-papuleuse, localisée au niveau du siège, du thorax, de la racine des cuisses et des genoux, avec un signe de Nikolsky positif   ; tendance de la peau à se décoller par simple pression ou frottement . Un prurit est associé aux lésions. Il n\\'est pas retrouvé d\\'atteinte des muqueuses.. Le bilan biologique montre un syndrome inflammatoire avec une CRP à 198 mg/L.. Le 14 décembre, les lésions se majorent avec des signes de décollement faisant suspecter un syndrome de Lyell. Toutes les thérapeutiques sont arrêtées et un avis est pris dans le service de dermatologie du CHU.. Le diagnostic de toxémie bulleuse grave avec un décollement au niveau des pieds et du siège était évoqué.. Un traitement par des soins locaux avec des pansements au tulle gras et une douche quotidienne au Plurexid® est mis en œuvre. Une déclaration de pharmacovigilance était faite.. La patiente reste hospitalisée jusqu\\'au 17 janvier 2011 dans le service de médecine infectieuse, date à laquelle elle est transférée dans le service de gériatrie du centre hospitalier.. Grâce aux soins locaux, les lésions cutanées évoluent favorablement avec une ré-épidermisation quasi complète.. Le 10 février 2011, elle regagne son domicile.. Le courrier de sortie, envoyé à son médecin traitant, mentionne : \"Reprise de l\\'autonomie de marche et guérison d\\'une toxémie bulleuse post-antibiothérapie, chez une femme âgée de 79 ans, obèse et suivie pour hypertension.\". Un livret nutritionnel ainsi qu\\'une fiche avec les médicaments \"mal tolérés\" étaient remis à la patiente.. Dans les suites de cette hospitalisation, la patiente continue d’être suivie, de façon régulière, par son médecin traitant, environ tous les 2 mois, notamment pour le renouvellement de ses ordonnances. Il n\\'y a pas d\\'exploration complémentaire ou de bilan allergologique.. Le 17 février 2014, un traitement par Augmentin® est prescrit à la patiente par son médecin pour une bronchite aiguë.    . En raison d\\'une diarrhée, l’Augmentin® est remplacé par de la Rocéphine® pour une durée de 7 jours ,du 21 au 28 février ,  associé à du Solupred® pendant 3 jours.. Le 28 février, de l\\'Oroken® est prescrit en association à un traitement par Pulmicort®.. Le 1er mars, le médecin traitant juge que l’état de la patiente nécessite son hospitalisation dans la polyclinique proche de son domicile. Après un entretien téléphonique avec le SAMU, le transfert s’effectue en ambulance. Dans le courrier adressé au service d\\'urgences, il n\\'est pas noté d\\'allergie.. A l’admission, il existe une hypotension artérielle à 60/40 mmHg, une fréquence cardiaque à 127/min en arythmie et une hypothermie à 35,5°C. L\\'auscultation pulmonaire retrouve des ronchus bilatéraux. Biologiquement, hypoxie à 80 mmHg avec une hypocapnie à 23 mmHg, syndrome inflammatoire majeur et insuffisance rénale.. Le scanner thoracique révèle des abcès pulmonaires bilatéraux et distaux.. Sur la fiche d’admission remplie par le médecin urgentiste et l\\'infirmière s\\'occupant de la patiente, il est noté dans la case allergies/intolérances: \"Pyostacine ? Augmentin ? Allergie à un antibiotique, lequel ?\".. Sur une observation informatisée saisie le même jour, à 15 h 52, par l\\'infirmière, il est écrit \"Notion d\\'allergie à un antibiotique non identifié par la famille\".. A 17 h, tension artérielle à 107/50 mmHg, fréquence cardiaque à 129/ min, température à 36,5°C. SaO2 à 97 %.. A 21 h, tension artérielle à 97/52 mmHg, fréquence cardiaque à 99 /min.. Après la réalisation de prélèvements bactériologiques, un traitement associant Rocéphine® et Pyostacine® est débuté à 21 h 10.. Le 2 mars à 7 h, dégradation de l\\'état clinique avec survenue d\\'une hypotension associée à un rash. La patiente est transférée en réanimation avec maintien de la tension artérielle par une perfusion de noradrenaline. SaO2 à 94 % sous 10 litres d\\'oxygène. Mise sous Tazocilline® et Zyvoxi®. Le 3 mars, amélioration de l’état clinique mais apparition de phlyctènes au niveau du dos.. Le 5 mars, évolution favorable de l’état infectieux mais progression des lésions cutanées qui deviennent bulleuses avec un exanthème et un signe Nikolsky positif. Instauration d’un traitement local sur prescription d\\'un dermatologue.. Présence d’un Staphyloccocus sp multi-sensible dans les hémocultures prélevées le 1er mars 2014 et d’un Pseudomonas aeruginosa à la culture de l’expectoration et du prélèvement effectué au niveau d’un ulcère variqueux.. Le 5 mars, transfert dans le service des brûlés du CHU, devant l\\'extension des lésions cutanées.  . Le courrier de sortie de réanimation conclue à : \"Etat de choc mixte, d\\'une part choc anaphylactique à la Pyostacine® et d\\'autre part choc septique en rapport avec des abcès pulmonaires dont la porte d\\'entrée est probablement cutanée.\". A l’admission au CHU, la patiente était confuse, mais eupnéique en air ambiant, avec une tension artérielle stable sous perfusion de noradrénaline ,en cours de sevrage , .. Le diagnostic posé est: \",… ,  Epidermolyse nécrosante suraiguë avec décollement cutané supérieur ou égal à 30 %. Nécrolyse épidermique ,score TEN à 4 ,  ,… , \".  La surface totale brûlée était estimée à 37 %.. Poursuite du traitement par Tazocilline® et Zyvoxid® jusqu’au 10 mars, associés à des antalgiques. Au cours de l\\'évolution, le décollement était estimé à 80 % de la surface cutanée, les lésions restant stables mais sans ébauche de cicatrisation.. Le 14 mars, apparition brutale d\\'une défaillance multi-viscérale avec une hypotension artérielle associée à des passages en arythmie par fibrillation auriculaire, à une anurie et à une insuffisance respiratoire par encombrement bronchique. Décès rapide malgré la mise en route d’une réanimation cardio-circulatoire et respiratoire.. Assignation du médecin traitant et de la polyclinique par les proches de la patiente pour obtenir réparation des préjudices qu’ils avaient subis ,novembre 2015 ,  :. Au médecin traitant, il était reproché l\\'omission de l\\'allergie grave à la Pyostacine® dans son courrier de liaison aux urgences ;. A la polyclinique, il était reproché l\\'absence de prise en compte des déclarations d\\'allergie par la famille, lors de l\\'admission de la patiente.',\n",
       " 'ngram': None,\n",
       " 'span': (0, 6671),\n",
       " 'source': 'endlines:v0',\n",
       " 'source_ID': 'f751f84c-4549-11eb-864c-3b15d0b9c6c7',\n",
       " 'isEntity': False,\n",
       " 'attributes': None,\n",
       " 'ID': 'f751f850-4549-11eb-864c-3b15d0b9c6c7'}"
      ]
     },
     "execution_count": 47,
     "metadata": {},
     "output_type": "execute_result"
    }
   ],
   "source": [
    "chunk[0].annotations[1].to_dict()"
   ]
  },
  {
   "cell_type": "code",
   "execution_count": null,
   "metadata": {},
   "outputs": [],
   "source": []
  }
 ],
 "metadata": {
  "kernelspec": {
   "display_name": "Python 3",
   "language": "python",
   "name": "python3"
  },
  "language_info": {
   "codemirror_mode": {
    "name": "ipython",
    "version": 3
   },
   "file_extension": ".py",
   "mimetype": "text/x-python",
   "name": "python",
   "nbconvert_exporter": "python",
   "pygments_lexer": "ipython3",
   "version": "3.8.5"
  }
 },
 "nbformat": 4,
 "nbformat_minor": 4
}
